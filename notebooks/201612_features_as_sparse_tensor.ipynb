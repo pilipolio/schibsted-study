{
 "cells": [
  {
   "cell_type": "markdown",
   "metadata": {},
   "source": [
    "## Sparse and variable length features to fixed-size embeddings"
   ]
  },
  {
   "cell_type": "code",
   "execution_count": 2,
   "metadata": {
    "collapsed": false
   },
   "outputs": [],
   "source": [
    "import tensorflow as tf\n",
    "import numpy as np\n",
    "import pandas as pd\n",
    "\n",
    "sess = tf.InteractiveSession()"
   ]
  },
  {
   "cell_type": "code",
   "execution_count": 34,
   "metadata": {
    "collapsed": false
   },
   "outputs": [
    {
     "data": {
      "text/html": [
       "<div>\n",
       "<table border=\"1\" class=\"dataframe\">\n",
       "  <thead>\n",
       "    <tr style=\"text-align: right;\">\n",
       "      <th></th>\n",
       "      <th>user</th>\n",
       "      <th>item</th>\n",
       "    </tr>\n",
       "  </thead>\n",
       "  <tbody>\n",
       "    <tr>\n",
       "      <th>0</th>\n",
       "      <td>0</td>\n",
       "      <td>1</td>\n",
       "    </tr>\n",
       "    <tr>\n",
       "      <th>1</th>\n",
       "      <td>0</td>\n",
       "      <td>10</td>\n",
       "    </tr>\n",
       "    <tr>\n",
       "      <th>2</th>\n",
       "      <td>1</td>\n",
       "      <td>3</td>\n",
       "    </tr>\n",
       "  </tbody>\n",
       "</table>\n",
       "</div>"
      ],
      "text/plain": [
       "   user  item\n",
       "0     0     1\n",
       "1     0    10\n",
       "2     1     3"
      ]
     },
     "execution_count": 34,
     "metadata": {},
     "output_type": "execute_result"
    }
   ],
   "source": [
    "user_history = pd.DataFrame(\n",
    "    data=[[0, 1], [0, 10], [1, 3]],\n",
    "    columns=['user', 'item'])\n",
    "\n",
    "user_history"
   ]
  },
  {
   "cell_type": "code",
   "execution_count": 35,
   "metadata": {
    "collapsed": false
   },
   "outputs": [
    {
     "data": {
      "text/plain": [
       "<2x11 sparse matrix of type '<class 'numpy.int64'>'\n",
       "\twith 3 stored elements in COOrdinate format>"
      ]
     },
     "execution_count": 35,
     "metadata": {},
     "output_type": "execute_result"
    }
   ],
   "source": [
    "from scipy import sparse\n",
    "\n",
    "sparse_history = sparse.coo_matrix((np.ones_like(user_history.user), (user_history.user, user_history.item)))\n",
    "sparse_history"
   ]
  },
  {
   "cell_type": "code",
   "execution_count": 36,
   "metadata": {
    "collapsed": false
   },
   "outputs": [
    {
     "data": {
      "text/plain": [
       "array([[0, 1, 0, 0, 0, 0, 0, 0, 0, 0, 1],\n",
       "       [0, 0, 0, 1, 0, 0, 0, 0, 0, 0, 0]])"
      ]
     },
     "execution_count": 36,
     "metadata": {},
     "output_type": "execute_result"
    }
   ],
   "source": [
    "sparse_history.toarray()"
   ]
  },
  {
   "cell_type": "markdown",
   "metadata": {},
   "source": [
    "## How to look-up embeddings for our particular users?"
   ]
  },
  {
   "cell_type": "code",
   "execution_count": 39,
   "metadata": {
    "collapsed": false
   },
   "outputs": [
    {
     "data": {
      "text/plain": [
       "array([[ 0.01827744, -0.00507568,  0.00115156,  0.00355386],\n",
       "       [ 0.00328594,  0.00637743,  0.01012458, -0.01201905],\n",
       "       [-0.01115778, -0.00643606,  0.00215107, -0.00931697]], dtype=float32)"
      ]
     },
     "execution_count": 39,
     "metadata": {},
     "output_type": "execute_result"
    }
   ],
   "source": [
    "N_USER = 3\n",
    "K = 4\n",
    "user_embeddings = tf.Variable(tf.random_normal([N_USER, K], stddev=0.01, mean=0))                              \n",
    "sess.run(user_embeddings.initializer)\n",
    "\n",
    "user_embeddings.eval()"
   ]
  },
  {
   "cell_type": "code",
   "execution_count": 40,
   "metadata": {
    "collapsed": false
   },
   "outputs": [
    {
     "data": {
      "text/plain": [
       "array([[ 0.01827744, -0.00507568,  0.00115156,  0.00355386],\n",
       "       [-0.01115778, -0.00643606,  0.00215107, -0.00931697]], dtype=float32)"
      ]
     },
     "execution_count": 40,
     "metadata": {},
     "output_type": "execute_result"
    }
   ],
   "source": [
    "# no problem if fixed size inputs\n",
    "batch_user_ids = [0, 2]\n",
    "tf.nn.embedding_lookup(user_embeddings, batch_user_ids).eval()"
   ]
  },
  {
   "cell_type": "markdown",
   "metadata": {},
   "source": [
    "## Feeding `tf.SparseTensorValue` to `tf.nn.embedding_lookup_sparse`"
   ]
  },
  {
   "cell_type": "code",
   "execution_count": 41,
   "metadata": {
    "collapsed": false
   },
   "outputs": [
    {
     "data": {
      "text/plain": [
       "array([0, 1, 0, 1, 2, 0])"
      ]
     },
     "execution_count": 41,
     "metadata": {},
     "output_type": "execute_result"
    }
   ],
   "source": [
    "row_indexes = np.array([0, 0, 1, 1, 1, 2])\n",
    "\n",
    "def intra_row_index(row_indexes):\n",
    "    count_by_row = np.bincount(row_indexes)\n",
    "    shift_by_row = np.concatenate([[0], np.cumsum(count_by_row)])\n",
    "    return np.arange(len(row_indexes)) - shift_by_row[row_indexes]\n",
    "\n",
    "intra_row_index(row_indexes)"
   ]
  },
  {
   "cell_type": "code",
   "execution_count": 42,
   "metadata": {
    "collapsed": false
   },
   "outputs": [
    {
     "data": {
      "text/plain": [
       "SparseTensorValue(indices=array([[0, 0],\n",
       "       [0, 1],\n",
       "       [1, 0]]), values=array([ 1, 10,  3], dtype=int32), shape=(2, 11))"
      ]
     },
     "execution_count": 42,
     "metadata": {},
     "output_type": "execute_result"
    }
   ],
   "source": [
    "def sparse_features_to_tensor(batch_features):\n",
    "    \"\"\" from https://github.com/tensorflow/tensorflow/issues/342#issuecomment-160354041\n",
    "    not very sparse, but rather a kind of jagged array where every batch sample can have 1, N_FEATURES features\n",
    "    \"\"\"\n",
    "    batch_features_as_coo = batch_features.tocoo()\n",
    "    batch_features_sparse_tensor = tf.SparseTensorValue(\n",
    "        indices=np.vstack([\n",
    "            batch_features_as_coo.row, \n",
    "            intra_row_index(batch_features_as_coo.row)]).T,\n",
    "        values=batch_features_as_coo.col,\n",
    "        shape=batch_features_as_coo.shape\n",
    "    )\n",
    "    return batch_features_sparse_tensor\n",
    "\n",
    "sparse_features_to_tensor(sparse_history)"
   ]
  },
  {
   "cell_type": "code",
   "execution_count": 52,
   "metadata": {
    "collapsed": false
   },
   "outputs": [
    {
     "data": {
      "text/plain": [
       "array([[  0.,   1.,   2.,   3.,   4.],\n",
       "       [  5.,   6.,   7.,   8.,   9.],\n",
       "       [ 10.,  11.,  12.,  13.,  14.],\n",
       "       [ 15.,  16.,  17.,  18.,  19.],\n",
       "       [ 20.,  21.,  22.,  23.,  24.],\n",
       "       [ 25.,  26.,  27.,  28.,  29.],\n",
       "       [ 30.,  31.,  32.,  33.,  34.],\n",
       "       [ 35.,  36.,  37.,  38.,  39.],\n",
       "       [ 40.,  41.,  42.,  43.,  44.],\n",
       "       [ 45.,  46.,  47.,  48.,  49.],\n",
       "       [ 50.,  51.,  52.,  53.,  54.]])"
      ]
     },
     "execution_count": 52,
     "metadata": {},
     "output_type": "execute_result"
    }
   ],
   "source": [
    "N_ITEMS = user_history.item.max() + 1\n",
    "K = 5\n",
    "item_embeddings = tf.constant(np.arange(N_ITEMS * K, dtype=float).reshape((N_ITEMS, K)))\n",
    "\n",
    "item_embeddings.eval()"
   ]
  },
  {
   "cell_type": "code",
   "execution_count": 51,
   "metadata": {
    "collapsed": false
   },
   "outputs": [
    {
     "data": {
      "text/plain": [
       "array([[ 55.,  57.,  59.,  61.,  63.],\n",
       "       [ 15.,  16.,  17.,  18.,  19.]])"
      ]
     },
     "execution_count": 51,
     "metadata": {},
     "output_type": "execute_result"
    }
   ],
   "source": [
    "tf.nn.embedding_lookup_sparse(\n",
    "    item_embeddings,\n",
    "    sp_ids=tf.SparseTensor(*sparse_item_features_to_tensor(sparse_history)), \n",
    "    sp_weights=None, \n",
    "    combiner='sum').eval()"
   ]
  }
 ],
 "metadata": {
  "anaconda-cloud": {},
  "kernelspec": {
   "display_name": "Python 3",
   "language": "python",
   "name": "python3"
  },
  "language_info": {
   "codemirror_mode": {
    "name": "ipython",
    "version": 3
   },
   "file_extension": ".py",
   "mimetype": "text/x-python",
   "name": "python",
   "nbconvert_exporter": "python",
   "pygments_lexer": "ipython3",
   "version": "3.6.0"
  }
 },
 "nbformat": 4,
 "nbformat_minor": 1
}
