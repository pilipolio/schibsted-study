{
 "cells": [
  {
   "cell_type": "code",
   "execution_count": 21,
   "metadata": {
    "collapsed": false
   },
   "outputs": [
    {
     "name": "stdout",
     "output_type": "stream",
     "text": [
      "0.12.0-rc0\n"
     ]
    }
   ],
   "source": [
    "import pandas as pd\n",
    "import numpy as np\n",
    "import tensorflow as tf\n",
    "\n",
    "from matplotlib import pyplot as plt\n",
    "import seaborn as sns\n",
    "%matplotlib inline\n",
    "\n",
    "print(tf.__version__)"
   ]
  },
  {
   "cell_type": "markdown",
   "metadata": {},
   "source": [
    "## Downloading and loading playlists and songs metadata\n",
    "\n",
    "See http://www.cs.cornell.edu/~shuochen/lme/data_page.html"
   ]
  },
  {
   "cell_type": "code",
   "execution_count": 4,
   "metadata": {
    "collapsed": false
   },
   "outputs": [
    {
     "name": "stdout",
     "output_type": "stream",
     "text": [
      "--2017-01-06 16:13:07--  http://www.cs.cornell.edu/~shuochen/lme/dataset.tar.gz\n",
      "Resolving www.cs.cornell.edu... 132.236.207.20\n",
      "Connecting to www.cs.cornell.edu|132.236.207.20|:80... connected.\n",
      "HTTP request sent, awaiting response... 200 OK\n",
      "Length: 15344424 (15M) [application/x-gzip]\n",
      "Saving to: 'dataset.tar.gz.4'\n",
      "\n",
      "dataset.tar.gz.4    100%[=====================>]  14.63M  1.85MB/s   in 8.3s   \n",
      "\n",
      "2017-01-06 16:13:16 (1.76 MB/s) - 'dataset.tar.gz.4' saved [15344424/15344424]\n",
      "\n",
      "x dataset/\n",
      "x dataset/._.DS_Store\n",
      "x dataset/.DS_Store\n",
      "x dataset/README\n",
      "x dataset/yes_big/\n",
      "x dataset/yes_complete/\n",
      "x dataset/yes_small/\n",
      "x dataset/yes_small/song_hash.txt\n",
      "x dataset/yes_small/tag_hash.txt\n",
      "x dataset/yes_small/tags.txt\n",
      "x dataset/yes_small/test.txt\n",
      "x dataset/yes_small/train.txt\n",
      "x dataset/yes_complete/song_hash.txt\n",
      "x dataset/yes_complete/tag_hash.txt\n",
      "x dataset/yes_complete/tags.txt\n",
      "x dataset/yes_complete/test.txt\n",
      "x dataset/yes_complete/train.txt\n",
      "x dataset/yes_big/song_hash.txt\n",
      "x dataset/yes_big/tag_hash.txt\n",
      "x dataset/yes_big/tags.txt\n",
      "x dataset/yes_big/test.txt\n",
      "x dataset/yes_big/train.txt\n"
     ]
    }
   ],
   "source": [
    "!wget http://www.cs.cornell.edu/~shuochen/lme/dataset.tar.gz\n",
    "! tar -xvf dataset.tar.gz"
   ]
  },
  {
   "cell_type": "code",
   "execution_count": 9,
   "metadata": {
    "collapsed": false
   },
   "outputs": [
    {
     "name": "stdout",
     "output_type": "stream",
     "text": [
      "17430147 17277121 17767569 17352501 17567841 17650\r\n",
      "19 456 22 82 120 854 597 20 160 76 415 493 81 29 1\r\n",
      "0 1 2 3 4 5 6 7 8 \r\n",
      "9 10 11 \r\n",
      "12 13 14 15 \r\n"
     ]
    }
   ],
   "source": [
    "! head -5 dataset/yes_small/train.txt | cut -c 1-50"
   ]
  },
  {
   "cell_type": "code",
   "execution_count": 13,
   "metadata": {
    "collapsed": false
   },
   "outputs": [
    {
     "name": "stdout",
     "output_type": "stream",
     "text": [
      "41480 playlists for a total of 175911 songs\n"
     ]
    },
    {
     "data": {
      "text/html": [
       "<div>\n",
       "<table border=\"1\" class=\"dataframe\">\n",
       "  <thead>\n",
       "    <tr style=\"text-align: right;\">\n",
       "      <th></th>\n",
       "      <th>songs</th>\n",
       "    </tr>\n",
       "  </thead>\n",
       "  <tbody>\n",
       "    <tr>\n",
       "      <th>2</th>\n",
       "      <td>[0, 1, 2, 3, 4, 5, 6, 7, 8]</td>\n",
       "    </tr>\n",
       "    <tr>\n",
       "      <th>3</th>\n",
       "      <td>[9, 10, 11]</td>\n",
       "    </tr>\n",
       "    <tr>\n",
       "      <th>4</th>\n",
       "      <td>[12, 13, 14, 15]</td>\n",
       "    </tr>\n",
       "    <tr>\n",
       "      <th>5</th>\n",
       "      <td>[16, 17, 18]</td>\n",
       "    </tr>\n",
       "    <tr>\n",
       "      <th>6</th>\n",
       "      <td>[19]</td>\n",
       "    </tr>\n",
       "  </tbody>\n",
       "</table>\n",
       "</div>"
      ],
      "text/plain": [
       "                         songs\n",
       "2  [0, 1, 2, 3, 4, 5, 6, 7, 8]\n",
       "3                  [9, 10, 11]\n",
       "4             [12, 13, 14, 15]\n",
       "5                 [16, 17, 18]\n",
       "6                         [19]"
      ]
     },
     "execution_count": 13,
     "metadata": {},
     "output_type": "execute_result"
    }
   ],
   "source": [
    "FIRST_FAULTY_PLAYLIST = 2\n",
    "playlists = pd.read_csv('dataset/yes_small/train.txt', header=None, names=['songs'])\\\n",
    "    .assign(songs=lambda df: df.songs.str.split(' ').apply(lambda ids: list(map(int, filter(None, ids)))))\\\n",
    "    .iloc[FIRST_FAULTY_PLAYLIST:,:]\n",
    "\n",
    "print('{} playlists for a total of {} songs'.format(playlists.shape[0], playlists.songs.apply(len).sum()))\n",
    "playlists.head()\n",
    "playlists.head()"
   ]
  },
  {
   "cell_type": "code",
   "execution_count": 19,
   "metadata": {
    "collapsed": false
   },
   "outputs": [
    {
     "name": "stdout",
     "output_type": "stream",
     "text": [
      "(175911, 3)\n"
     ]
    },
    {
     "data": {
      "text/html": [
       "<div>\n",
       "<table border=\"1\" class=\"dataframe\">\n",
       "  <thead>\n",
       "    <tr style=\"text-align: right;\">\n",
       "      <th></th>\n",
       "      <th>playlist_id</th>\n",
       "      <th>position</th>\n",
       "      <th>song_id</th>\n",
       "    </tr>\n",
       "  </thead>\n",
       "  <tbody>\n",
       "    <tr>\n",
       "      <th>0</th>\n",
       "      <td>2</td>\n",
       "      <td>0</td>\n",
       "      <td>0</td>\n",
       "    </tr>\n",
       "    <tr>\n",
       "      <th>1</th>\n",
       "      <td>2</td>\n",
       "      <td>1</td>\n",
       "      <td>1</td>\n",
       "    </tr>\n",
       "    <tr>\n",
       "      <th>2</th>\n",
       "      <td>2</td>\n",
       "      <td>2</td>\n",
       "      <td>2</td>\n",
       "    </tr>\n",
       "    <tr>\n",
       "      <th>3</th>\n",
       "      <td>2</td>\n",
       "      <td>3</td>\n",
       "      <td>3</td>\n",
       "    </tr>\n",
       "    <tr>\n",
       "      <th>4</th>\n",
       "      <td>2</td>\n",
       "      <td>4</td>\n",
       "      <td>4</td>\n",
       "    </tr>\n",
       "  </tbody>\n",
       "</table>\n",
       "</div>"
      ],
      "text/plain": [
       "   playlist_id  position  song_id\n",
       "0            2         0        0\n",
       "1            2         1        1\n",
       "2            2         2        2\n",
       "3            2         3        3\n",
       "4            2         4        4"
      ]
     },
     "execution_count": 19,
     "metadata": {},
     "output_type": "execute_result"
    }
   ],
   "source": [
    "from itertools import chain\n",
    "\n",
    "playlist_songs = pd.DataFrame.from_records(\n",
    "    data=chain.from_iterable([(playlist_id, position, song_id) for position, song_id in enumerate(song_ids)] for playlist_id, (song_ids,) in playlists.iterrows()),\n",
    "    columns=['playlist_id', 'position', 'song_id'])\n",
    "\n",
    "print(playlist_songs.shape)\n",
    "playlist_songs.head()"
   ]
  },
  {
   "cell_type": "code",
   "execution_count": 16,
   "metadata": {
    "collapsed": false
   },
   "outputs": [
    {
     "name": "stdout",
     "output_type": "stream",
     "text": [
      "389728 playlists for a total of 1581007 songs\n"
     ]
    },
    {
     "data": {
      "text/html": [
       "<div>\n",
       "<table border=\"1\" class=\"dataframe\">\n",
       "  <thead>\n",
       "    <tr style=\"text-align: right;\">\n",
       "      <th></th>\n",
       "      <th>songs</th>\n",
       "    </tr>\n",
       "  </thead>\n",
       "  <tbody>\n",
       "    <tr>\n",
       "      <th>2</th>\n",
       "      <td>[3, 30, 38, 11, 39, 22, 40]</td>\n",
       "    </tr>\n",
       "    <tr>\n",
       "      <th>3</th>\n",
       "      <td>[12, 41, 42]</td>\n",
       "    </tr>\n",
       "    <tr>\n",
       "      <th>4</th>\n",
       "      <td>[43, 36]</td>\n",
       "    </tr>\n",
       "    <tr>\n",
       "      <th>5</th>\n",
       "      <td>[44]</td>\n",
       "    </tr>\n",
       "    <tr>\n",
       "      <th>6</th>\n",
       "      <td>[4]</td>\n",
       "    </tr>\n",
       "  </tbody>\n",
       "</table>\n",
       "</div>"
      ],
      "text/plain": [
       "                         songs\n",
       "2  [3, 30, 38, 11, 39, 22, 40]\n",
       "3                 [12, 41, 42]\n",
       "4                     [43, 36]\n",
       "5                         [44]\n",
       "6                          [4]"
      ]
     },
     "execution_count": 16,
     "metadata": {},
     "output_type": "execute_result"
    }
   ],
   "source": [
    "FIRST_FAULTY_PLAYLIST = 2\n",
    "test_playlists = pd.read_csv('dataset/yes_small/test.txt', header=None, names=['songs'])\\\n",
    "    .assign(songs=lambda df: df.songs.str.split(' ').apply(lambda ids: list(map(int, filter(None, ids)))))\\\n",
    "    .iloc[FIRST_FAULTY_PLAYLIST:,:]\n",
    "\n",
    "print('{} playlists for a total of {} songs'.format(test_playlists.shape[0], test_playlists.songs.apply(len).sum()))\n",
    "test_playlists.head()"
   ]
  },
  {
   "cell_type": "code",
   "execution_count": 14,
   "metadata": {
    "collapsed": false
   },
   "outputs": [
    {
     "name": "stdout",
     "output_type": "stream",
     "text": [
      "(3168, 4)\n"
     ]
    },
    {
     "data": {
      "text/html": [
       "<div>\n",
       "<table border=\"1\" class=\"dataframe\">\n",
       "  <thead>\n",
       "    <tr style=\"text-align: right;\">\n",
       "      <th></th>\n",
       "      <th>song_id</th>\n",
       "      <th>title</th>\n",
       "      <th>artist</th>\n",
       "      <th>artist_id</th>\n",
       "    </tr>\n",
       "    <tr>\n",
       "      <th>song_id</th>\n",
       "      <th></th>\n",
       "      <th></th>\n",
       "      <th></th>\n",
       "      <th></th>\n",
       "    </tr>\n",
       "  </thead>\n",
       "  <tbody>\n",
       "    <tr>\n",
       "      <th>0</th>\n",
       "      <td>0</td>\n",
       "      <td>Gucci Time (w\\/ Swizz Beatz)</td>\n",
       "      <td>Gucci Mane</td>\n",
       "      <td>474</td>\n",
       "    </tr>\n",
       "    <tr>\n",
       "      <th>1</th>\n",
       "      <td>1</td>\n",
       "      <td>Aston Martin Music (w\\/ Drake &amp; Chrisette Mich...</td>\n",
       "      <td>Rick Ross</td>\n",
       "      <td>960</td>\n",
       "    </tr>\n",
       "    <tr>\n",
       "      <th>2</th>\n",
       "      <td>2</td>\n",
       "      <td>Get Back Up (w\\/ Chris Brown)</td>\n",
       "      <td>T.I.</td>\n",
       "      <td>1098</td>\n",
       "    </tr>\n",
       "    <tr>\n",
       "      <th>3</th>\n",
       "      <td>3</td>\n",
       "      <td>Hot Toddy (w\\/ Jay-Z &amp; Ester Dean)</td>\n",
       "      <td>Usher</td>\n",
       "      <td>1264</td>\n",
       "    </tr>\n",
       "    <tr>\n",
       "      <th>4</th>\n",
       "      <td>4</td>\n",
       "      <td>Whip My Hair</td>\n",
       "      <td>Willow</td>\n",
       "      <td>1304</td>\n",
       "    </tr>\n",
       "  </tbody>\n",
       "</table>\n",
       "</div>"
      ],
      "text/plain": [
       "         song_id                                              title  \\\n",
       "song_id                                                               \n",
       "0              0                       Gucci Time (w\\/ Swizz Beatz)   \n",
       "1              1  Aston Martin Music (w\\/ Drake & Chrisette Mich...   \n",
       "2              2                      Get Back Up (w\\/ Chris Brown)   \n",
       "3              3                 Hot Toddy (w\\/ Jay-Z & Ester Dean)   \n",
       "4              4                                       Whip My Hair   \n",
       "\n",
       "             artist  artist_id  \n",
       "song_id                         \n",
       "0        Gucci Mane        474  \n",
       "1         Rick Ross        960  \n",
       "2              T.I.       1098  \n",
       "3             Usher       1264  \n",
       "4            Willow       1304  "
      ]
     },
     "execution_count": 14,
     "metadata": {},
     "output_type": "execute_result"
    }
   ],
   "source": [
    "songs = pd.read_csv('dataset/yes_small/song_hash.txt', sep='\\t', names=['song_id', 'title', 'artist'])\\\n",
    "    .set_index('song_id', drop=False)\\\n",
    "    .assign(artist_id=lambda df: df.artist.astype('category').cat.codes)\n",
    "\n",
    "print(songs.shape)\n",
    "songs.head(5)"
   ]
  },
  {
   "cell_type": "code",
   "execution_count": 20,
   "metadata": {
    "collapsed": false
   },
   "outputs": [
    {
     "data": {
      "text/html": [
       "<div>\n",
       "<table border=\"1\" class=\"dataframe\">\n",
       "  <thead>\n",
       "    <tr style=\"text-align: right;\">\n",
       "      <th></th>\n",
       "      <th>artist_id</th>\n",
       "      <th>artist</th>\n",
       "      <th>n_songs_played</th>\n",
       "    </tr>\n",
       "  </thead>\n",
       "  <tbody>\n",
       "    <tr>\n",
       "      <th>0</th>\n",
       "      <td>0</td>\n",
       "      <td>-</td>\n",
       "      <td>93</td>\n",
       "    </tr>\n",
       "    <tr>\n",
       "      <th>1</th>\n",
       "      <td>1</td>\n",
       "      <td>.38 Special</td>\n",
       "      <td>47</td>\n",
       "    </tr>\n",
       "    <tr>\n",
       "      <th>2</th>\n",
       "      <td>2</td>\n",
       "      <td>10 Years</td>\n",
       "      <td>152</td>\n",
       "    </tr>\n",
       "    <tr>\n",
       "      <th>3</th>\n",
       "      <td>3</td>\n",
       "      <td>2Pac</td>\n",
       "      <td>146</td>\n",
       "    </tr>\n",
       "    <tr>\n",
       "      <th>4</th>\n",
       "      <td>4</td>\n",
       "      <td>3 Doors Down</td>\n",
       "      <td>274</td>\n",
       "    </tr>\n",
       "  </tbody>\n",
       "</table>\n",
       "</div>"
      ],
      "text/plain": [
       "   artist_id        artist  n_songs_played\n",
       "0          0             -              93\n",
       "1          1   .38 Special              47\n",
       "2          2      10 Years             152\n",
       "3          3          2Pac             146\n",
       "4          4  3 Doors Down             274"
      ]
     },
     "execution_count": 20,
     "metadata": {},
     "output_type": "execute_result"
    }
   ],
   "source": [
    "artists = songs.groupby('artist_id').first()[['artist']].reset_index()\n",
    "\n",
    "artist_songs_played = songs.artist.loc[playlist_songs.song_id].to_frame('artist')\\\n",
    "    .groupby('artist').size()\\\n",
    "    .sort_values(ascending=False).to_frame('n_songs_played')\n",
    "\n",
    "artists = pd.merge(artists, artist_songs_played.reset_index(), on='artist')\n",
    "artists.head()"
   ]
  },
  {
   "cell_type": "markdown",
   "metadata": {},
   "source": [
    "## Quick descriptive analysis"
   ]
  },
  {
   "cell_type": "code",
   "execution_count": 22,
   "metadata": {
    "collapsed": false
   },
   "outputs": [
    {
     "data": {
      "text/html": [
       "<div>\n",
       "<table border=\"1\" class=\"dataframe\">\n",
       "  <thead>\n",
       "    <tr style=\"text-align: right;\">\n",
       "      <th></th>\n",
       "      <th>playlist_id</th>\n",
       "      <th>position</th>\n",
       "      <th>song_id</th>\n",
       "      <th>title</th>\n",
       "      <th>artist</th>\n",
       "      <th>artist_id</th>\n",
       "    </tr>\n",
       "  </thead>\n",
       "  <tbody>\n",
       "    <tr>\n",
       "      <th>0</th>\n",
       "      <td>4</td>\n",
       "      <td>0</td>\n",
       "      <td>12</td>\n",
       "      <td>All I Wants Is You (w\\/ J Cole)</td>\n",
       "      <td>Miguel</td>\n",
       "      <td>797</td>\n",
       "    </tr>\n",
       "    <tr>\n",
       "      <th>1</th>\n",
       "      <td>4</td>\n",
       "      <td>1</td>\n",
       "      <td>13</td>\n",
       "      <td>Champagne Life</td>\n",
       "      <td>Ne-Yo</td>\n",
       "      <td>832</td>\n",
       "    </tr>\n",
       "    <tr>\n",
       "      <th>2</th>\n",
       "      <td>4</td>\n",
       "      <td>2</td>\n",
       "      <td>14</td>\n",
       "      <td>Find Your Love</td>\n",
       "      <td>Drake</td>\n",
       "      <td>341</td>\n",
       "    </tr>\n",
       "    <tr>\n",
       "      <th>3</th>\n",
       "      <td>4</td>\n",
       "      <td>3</td>\n",
       "      <td>15</td>\n",
       "      <td>Your Love</td>\n",
       "      <td>Nicki Minaj</td>\n",
       "      <td>844</td>\n",
       "    </tr>\n",
       "  </tbody>\n",
       "</table>\n",
       "</div>"
      ],
      "text/plain": [
       "   playlist_id  position  song_id                            title  \\\n",
       "0            4         0       12  All I Wants Is You (w\\/ J Cole)   \n",
       "1            4         1       13                   Champagne Life   \n",
       "2            4         2       14                   Find Your Love   \n",
       "3            4         3       15                        Your Love   \n",
       "\n",
       "        artist  artist_id  \n",
       "0       Miguel        797  \n",
       "1        Ne-Yo        832  \n",
       "2        Drake        341  \n",
       "3  Nicki Minaj        844  "
      ]
     },
     "execution_count": 22,
     "metadata": {},
     "output_type": "execute_result"
    },
    {
     "data": {
      "image/png": "[encoded data removed]",
      "text/plain": [
       "<matplotlib.figure.Figure at 0x119658630>"
      ]
     },
     "metadata": {},
     "output_type": "display_data"
    }
   ],
   "source": [
    "plt.hist(playlist_songs.groupby('playlist_id').size(), bins=np.logspace(0, 3, 30))\n",
    "plt.xscale('log')\n",
    "\n",
    "pd.merge(\n",
    "    playlist_songs.query('playlist_id == 4'),\n",
    "    songs,\n",
    "    on='song_id')"
   ]
  },
  {
   "cell_type": "code",
   "execution_count": 23,
   "metadata": {
    "collapsed": false
   },
   "outputs": [
    {
     "data": {
      "text/plain": [
       "count    3168.000000\n",
       "mean     1583.500000\n",
       "std       914.667153\n",
       "min         0.000000\n",
       "25%       791.750000\n",
       "50%      1583.500000\n",
       "75%      2375.250000\n",
       "max      3167.000000\n",
       "Name: song_id, dtype: float64"
      ]
     },
     "execution_count": 23,
     "metadata": {},
     "output_type": "execute_result"
    }
   ],
   "source": [
    "songs.song_id.describe()"
   ]
  },
  {
   "cell_type": "code",
   "execution_count": 24,
   "metadata": {
    "collapsed": false
   },
   "outputs": [
    {
     "data": {
      "text/plain": [
       "count    175911.000000\n",
       "mean       1532.231151\n",
       "std        1016.879762\n",
       "min           0.000000\n",
       "25%         541.000000\n",
       "50%        1579.000000\n",
       "75%        2505.000000\n",
       "max        3167.000000\n",
       "Name: song_id, dtype: float64"
      ]
     },
     "execution_count": 24,
     "metadata": {},
     "output_type": "execute_result"
    }
   ],
   "source": [
    "playlist_songs.song_id.describe()"
   ]
  },
  {
   "cell_type": "markdown",
   "metadata": {},
   "source": [
    "## Skip-gram generator\n",
    "\n",
    "Generating all pairs of co-played words (ie artists) from the same context (ie playlist), without taking into account the order."
   ]
  },
  {
   "cell_type": "code",
   "execution_count": 26,
   "metadata": {
    "collapsed": false
   },
   "outputs": [
    {
     "name": "stdout",
     "output_type": "stream",
     "text": [
      "song_id\n",
      "9      965\n",
      "10     394\n",
      "11    1264\n",
      "Name: artist_id, dtype: int16\n",
      "[(965, 394), (965, 1264), (394, 965), (394, 1264), (1264, 965), (1264, 394)]\n"
     ]
    }
   ],
   "source": [
    "from itertools import permutations, chain\n",
    "\n",
    "song_ids = playlist_songs.query('playlist_id == 3').song_id.values\n",
    "\n",
    "def artist_skip_grams(song_ids):\n",
    "    song_artist_ids = songs.artist_id.loc[song_ids].values\n",
    "    return [(a1, a2) for a1, a2 in permutations(song_artist_ids, 2) if a1 != a2]\n",
    "\n",
    "print(songs.artist_id.loc[song_ids])\n",
    "print(artist_skip_grams(song_ids))"
   ]
  },
  {
   "cell_type": "code",
   "execution_count": 27,
   "metadata": {
    "collapsed": false
   },
   "outputs": [],
   "source": [
    "from itertools import islice, repeat\n",
    "\n",
    "class PlaylistToArtistSkipGrams:\n",
    "\n",
    "    def __init__(self, playlists=playlists, loops=1):\n",
    "        all_artist_skip_grams = chain.from_iterable(map(artist_skip_grams, playlists.songs.values))\n",
    "        self.all_artist_skip_grams_iterable = chain.from_iterable(repeat(all_artist_skip_grams, loops))\n",
    "        \n",
    "    def next_batch(self, batch_size):\n",
    "        next_skip_grams = list(islice(self.all_artist_skip_grams_iterable, batch_size))\n",
    "        return np.array(next_skip_grams, dtype=np.int32) \n",
    "\n",
    "skipGramGenerator = PlaylistToArtistSkipGrams()"
   ]
  },
  {
   "cell_type": "code",
   "execution_count": 28,
   "metadata": {
    "collapsed": false
   },
   "outputs": [],
   "source": [
    "#%timeit sum(1 for _ in PlaylistToArtistSkipGrams().all_artist_skip_grams_iterable)"
   ]
  },
  {
   "cell_type": "code",
   "execution_count": 30,
   "metadata": {
    "collapsed": false
   },
   "outputs": [
    {
     "data": {
      "text/plain": [
       "array([[ 474,  960],\n",
       "       [ 474, 1098],\n",
       "       [ 474, 1264],\n",
       "       [ 474, 1304],\n",
       "       [ 474,  553],\n",
       "       [ 474, 1308],\n",
       "       [ 474, 1054],\n",
       "       [ 474,  707],\n",
       "       [ 960,  474],\n",
       "       [ 960, 1098]], dtype=int32)"
      ]
     },
     "execution_count": 30,
     "metadata": {},
     "output_type": "execute_result"
    }
   ],
   "source": [
    "PlaylistToArtistSkipGrams(playlists=playlists, loops=1).next_batch(10)"
   ]
  },
  {
   "cell_type": "markdown",
   "metadata": {},
   "source": [
    "## Tensorflow model"
   ]
  },
  {
   "cell_type": "code",
   "execution_count": 32,
   "metadata": {
    "collapsed": false
   },
   "outputs": [],
   "source": [
    "N_SONGS = songs.song_id.max() + 1\n",
    "N_ARTISTS = songs.artist_id.max() + 1\n",
    "\n",
    "class Song2Vec:\n",
    "    def __init__(self, n_entities, dimensionality=50, batch_size=None):\n",
    "        \n",
    "        with tf.name_scope('input_embeddings'):\n",
    "            input_embeddings = tf.Variable(tf.random_normal([n_entities, dimensionality], \n",
    "                                                           stddev=0.01, mean=0), name='input')\n",
    "            tf.histogram_summary('input_embeddings', input_embeddings)\n",
    "\n",
    "        with tf.name_scope('output_embeddings'):\n",
    "            output_embeddings = tf.Variable(tf.random_normal([n_entities, dimensionality], stddev=0.01, mean=0), name='output')\n",
    "            tf.histogram_summary('output_embeddings', output_embeddings)\n",
    "\n",
    "        with tf.name_scope('output_bias'):\n",
    "            output_biases = tf.Variable(tf.random_normal([n_entities], stddev=0.01, mean=0), name='output_bias')\n",
    "            tf.histogram_summary('output_biases', output_biases)\n",
    "        \n",
    "        self.n_entities = n_entities\n",
    "        self.output_biases = output_biases\n",
    "        self.input_embeddings = input_embeddings\n",
    "        self.output_embeddings = output_embeddings\n",
    "    \n",
    "        self.input_song_ids = tf.placeholder(\n",
    "            tf.int32, shape=[batch_size], name='input_song_ids')\n",
    "        self.output_song_ids = tf.placeholder(\n",
    "            tf.int32, shape=[batch_size], name='output_song_ids')\n",
    "\n",
    "    def input_to_all_output_logits(self):\n",
    "        \"\"\"\n",
    "        The architecture is made of:\n",
    "         * input nodes for the user_id, and associated weights or embeddings V_u\n",
    "         * internal weights W_i and biases b_i for each items\n",
    "        \"\"\"\n",
    "        return self.output_biases + tf.matmul(\n",
    "                tf.nn.embedding_lookup(self.input_embeddings, self.input_song_ids),\n",
    "                tf.transpose(self.output_embeddings), name='input_to_all_output_logits')\n",
    "\n",
    "    def sampled_loss(self):\n",
    "        with tf.name_scope('loss'):\n",
    "            sample_losses = tf.nn.sampled_softmax_loss(\n",
    "                biases=self.output_biases,\n",
    "                inputs=tf.nn.embedding_lookup(self.input_embeddings, self.input_song_ids),\n",
    "                labels=tf.reshape(self.output_song_ids, (-1, 1)),\n",
    "                weights=self.output_embeddings,\n",
    "                num_classes=self.n_entities,\n",
    "                num_sampled=10, num_true=1)\n",
    "            return tf.reduce_mean(sample_losses)\n",
    "        \n",
    "    def exact_loss(self):\n",
    "        with tf.name_scope('loss'):\n",
    "            cross_entropy_sum = tf.reduce_mean(\n",
    "                tf.nn.sparse_softmax_cross_entropy_with_logits(\n",
    "                    logits=self.input_to_all_output_logits(),\n",
    "                    labels=self.output_song_ids))\n",
    "        return cross_entropy_sum"
   ]
  },
  {
   "cell_type": "code",
   "execution_count": 34,
   "metadata": {
    "collapsed": true
   },
   "outputs": [],
   "source": [
    "def save_embeddings_metadata(model, summary_writer):\n",
    "    \"\"\" From https://www.tensorflow.org/versions/r0.12/how_tos/embedding_viz/index.html#tensorboard-embedding-visualization\n",
    "    \"\"\"\n",
    "    embeddings_metadata_path = os.path.join(LOG_DIR, 'artist_embeddings.tsv')\n",
    "    artists.to_csv(embeddings_metadata_path, sep='\\t')\n",
    "\n",
    "    config = projector.ProjectorConfig()\n",
    "    for embeddings_variable in [model.output_embeddings, model.input_embeddings]:\n",
    "        embedding = config.embeddings.add()\n",
    "        embedding.tensor_name = embeddings_variable.name\n",
    "        embedding.metadata_path = embeddings_metadata_path\n",
    "    \n",
    "    projector.visualize_embeddings(summary_writer, config)"
   ]
  },
  {
   "cell_type": "code",
   "execution_count": 35,
   "metadata": {
    "collapsed": false
   },
   "outputs": [
    {
     "name": "stdout",
     "output_type": "stream",
     "text": [
      "step 0, batch_loss = 7.19, test_loss = 7.18\n",
      "step 10, batch_loss = 7.10, test_loss = 7.03\n",
      "step 20, batch_loss = 6.86, test_loss = 6.40\n",
      "step 30, batch_loss = 5.73, test_loss = 6.51\n",
      "step 40, batch_loss = 6.58, test_loss = 5.40\n",
      "step 50, batch_loss = 5.22, test_loss = 5.12\n",
      "step 60, batch_loss = 5.80, test_loss = 5.11\n",
      "step 70, batch_loss = 4.88, test_loss = 4.63\n",
      "step 80, batch_loss = 4.22, test_loss = 4.92\n",
      "step 90, batch_loss = 4.71, test_loss = 4.87\n"
     ]
    }
   ],
   "source": [
    "import datetime as dt\n",
    "import os\n",
    "\n",
    "from tensorflow.contrib.tensorboard.plugins import projector\n",
    "\n",
    "LEARNING_RATE = 0.005\n",
    "BATCH_SIZE = 10000\n",
    "N_ITER = 100\n",
    "LOG_DIR = '/tmp/tf_logs'\n",
    "\n",
    "with tf.Graph().as_default():\n",
    "    model = Song2Vec(n_entities=N_ARTISTS, dimensionality=20)\n",
    "    loss = model.exact_loss()    #.sampled_loss()\n",
    "    \n",
    "    tf.scalar_summary('batch_loss', loss)\n",
    "    summary = tf.merge_all_summaries()\n",
    "    test_summary = tf.scalar_summary('test_loss', loss)\n",
    "    train_step = tf.train.AdamOptimizer(LEARNING_RATE).minimize(loss)\n",
    "    \n",
    "    test_generator = PlaylistToArtistSkipGrams(playlists=test_playlists, loops=100)\n",
    "    skip_grams_generator = PlaylistToArtistSkipGrams(loops=100)\n",
    "    \n",
    "    def perform_step(step, summary_writer):\n",
    "        batch_input_and_output_ids = skip_grams_generator.next_batch(BATCH_SIZE)\n",
    "        if batch_input_and_output_ids is None or len(batch_input_and_output_ids) == 0:\n",
    "            print(batch_input_and_output_ids)\n",
    "            return\n",
    "        _, loss_value, summary_value = sess.run(\n",
    "            fetches=[train_step, loss, summary], \n",
    "            feed_dict={\n",
    "                model.input_song_ids: batch_input_and_output_ids[:, 0],\n",
    "                model.output_song_ids: batch_input_and_output_ids[:, 1]\n",
    "            })\n",
    "        summary_writer.add_summary(summary_value, global_step=step)\n",
    "        \n",
    "        if step% 10 == 0:\n",
    "            test_input_and_output_ids = test_generator.next_batch(BATCH_SIZE * 10)\n",
    "            test_loss_value, test_summary_value = sess.run(\n",
    "            fetches=[loss, test_summary], \n",
    "            feed_dict={\n",
    "                model.input_song_ids: test_input_and_output_ids[:, 0],\n",
    "                model.output_song_ids: test_input_and_output_ids[:, 1]\n",
    "            })\n",
    "\n",
    "            print('step {step}, batch_loss = {loss_value:.2f}, test_loss = {test_loss_value:.2f}'.format(**locals()))\n",
    "            summary_writer.add_summary(test_summary_value, global_step=step)\n",
    "        summary_writer.flush()\n",
    "\n",
    "    with tf.Session() as sess:\n",
    "\n",
    "        summary_writer = tf.train.SummaryWriter(\n",
    "            os.path.join(LOG_DIR,'{:%Y%m%d%H%M%S}'.format(dt.datetime.now())),\n",
    "            sess.graph)\n",
    "\n",
    "        sess.run(tf.global_variables_initializer())\n",
    "        \n",
    "        for step in range(N_ITER):\n",
    "            perform_step(step, summary_writer)\n",
    "        \n",
    "        input_embeddings = model.input_embeddings.eval()\n",
    "        output_embeddings = model.output_embeddings.eval()\n",
    "        \n",
    "        saver = tf.train.Saver()\n",
    "        saver.save(sess, os.path.join(LOG_DIR, \"model.ckpt\"), step)\n",
    "        save_embeddings_metadata(model, summary_writer)"
   ]
  },
  {
   "cell_type": "code",
   "execution_count": 36,
   "metadata": {
    "collapsed": false
   },
   "outputs": [],
   "source": [
    "pd.DataFrame(input_embeddings).to_csv(os.path.join(LOG_DIR, \"input_embeddings.tsv\"), sep='\\t', index=None, header=None)\n",
    "pd.DataFrame(output_embeddings).to_csv(os.path.join(LOG_DIR, \"output_embeddings.tsv\"), sep='\\t', index=None, header=None)"
   ]
  },
  {
   "cell_type": "code",
   "execution_count": 37,
   "metadata": {
    "collapsed": true
   },
   "outputs": [],
   "source": [
    "from IPython.core.display import HTML, display\n",
    "import pandas as pd\n",
    "\n",
    "pd.set_option('display.width', 1000)\n",
    "\n",
    "from scipy import spatial\n",
    "\n",
    "def embeddings_to_distances(embeddings):\n",
    "    item_item_distances = pd.DataFrame(\n",
    "        index=embeddings.index,\n",
    "        columns=embeddings.index,\n",
    "        data=spatial.distance.squareform(spatial.distance.pdist(embeddings.values, metric='cosine'))\n",
    "    )\n",
    "    return item_item_distances\n",
    "\n",
    "def topn_most_similar(item_id, topn, item_item_distances):\n",
    "    candidate_distances = item_item_distances.loc[item_id]\n",
    "    return candidate_distances.sort_values().iloc[1:(topn+1)].to_frame('distance')\n",
    "\n",
    "def display_items(from_id, to_items_df, items_metadata):\n",
    "    display(HTML(items_metadata.loc[[from_id]].to_html()))\n",
    "    display(HTML(to_items_df.join(items_metadata).to_html()))\n",
    "    \n",
    "def display_topn_most_similar(item_id, distances, topn, items_metadata):\n",
    "    most_similar = topn_most_similar(item_id, topn, distances)\n",
    "    display_items(item_id, most_similar, items_metadata)"
   ]
  },
  {
   "cell_type": "code",
   "execution_count": 38,
   "metadata": {
    "collapsed": false
   },
   "outputs": [],
   "source": [
    "distances = embeddings_to_distances(pd.DataFrame(data=input_embeddings))\n",
    "distances = embeddings_to_distances(pd.DataFrame(data=output_embeddings))"
   ]
  },
  {
   "cell_type": "code",
   "execution_count": 39,
   "metadata": {
    "collapsed": false
   },
   "outputs": [
    {
     "data": {
      "text/html": [
       "<table border=\"1\" class=\"dataframe\">\n",
       "  <thead>\n",
       "    <tr style=\"text-align: right;\">\n",
       "      <th></th>\n",
       "      <th>artist_id</th>\n",
       "      <th>artist</th>\n",
       "      <th>n_songs_played</th>\n",
       "    </tr>\n",
       "  </thead>\n",
       "  <tbody>\n",
       "    <tr>\n",
       "      <th>19</th>\n",
       "      <td>19</td>\n",
       "      <td>Abba</td>\n",
       "      <td>39</td>\n",
       "    </tr>\n",
       "  </tbody>\n",
       "</table>"
      ],
      "text/plain": [
       "<IPython.core.display.HTML object>"
      ]
     },
     "metadata": {},
     "output_type": "display_data"
    },
    {
     "data": {
      "text/html": [
       "<table border=\"1\" class=\"dataframe\">\n",
       "  <thead>\n",
       "    <tr style=\"text-align: right;\">\n",
       "      <th></th>\n",
       "      <th>distance</th>\n",
       "      <th>artist_id</th>\n",
       "      <th>artist</th>\n",
       "      <th>n_songs_played</th>\n",
       "    </tr>\n",
       "  </thead>\n",
       "  <tbody>\n",
       "    <tr>\n",
       "      <th>500</th>\n",
       "      <td>0.001802</td>\n",
       "      <td>500</td>\n",
       "      <td>Howard Jones</td>\n",
       "      <td>21</td>\n",
       "    </tr>\n",
       "    <tr>\n",
       "      <th>487</th>\n",
       "      <td>0.002517</td>\n",
       "      <td>487</td>\n",
       "      <td>Heatwave</td>\n",
       "      <td>21</td>\n",
       "    </tr>\n",
       "    <tr>\n",
       "      <th>1231</th>\n",
       "      <td>0.003059</td>\n",
       "      <td>1231</td>\n",
       "      <td>Tom Cochrane</td>\n",
       "      <td>42</td>\n",
       "    </tr>\n",
       "    <tr>\n",
       "      <th>271</th>\n",
       "      <td>0.003455</td>\n",
       "      <td>271</td>\n",
       "      <td>Crowded House</td>\n",
       "      <td>31</td>\n",
       "    </tr>\n",
       "    <tr>\n",
       "      <th>983</th>\n",
       "      <td>0.003458</td>\n",
       "      <td>983</td>\n",
       "      <td>Rupert Holmes</td>\n",
       "      <td>41</td>\n",
       "    </tr>\n",
       "  </tbody>\n",
       "</table>"
      ],
      "text/plain": [
       "<IPython.core.display.HTML object>"
      ]
     },
     "metadata": {},
     "output_type": "display_data"
    }
   ],
   "source": [
    "ABBA = 19\n",
    "display_topn_most_similar(item_id=ABBA, distances=distances, topn=5, items_metadata=artists)"
   ]
  },
  {
   "cell_type": "code",
   "execution_count": 40,
   "metadata": {
    "collapsed": false
   },
   "outputs": [
    {
     "data": {
      "text/html": [
       "<table border=\"1\" class=\"dataframe\">\n",
       "  <thead>\n",
       "    <tr style=\"text-align: right;\">\n",
       "      <th></th>\n",
       "      <th>artist_id</th>\n",
       "      <th>artist</th>\n",
       "      <th>n_songs_played</th>\n",
       "    </tr>\n",
       "  </thead>\n",
       "  <tbody>\n",
       "    <tr>\n",
       "      <th>1300</th>\n",
       "      <td>1300</td>\n",
       "      <td>Whitney Houston</td>\n",
       "      <td>21</td>\n",
       "    </tr>\n",
       "  </tbody>\n",
       "</table>"
      ],
      "text/plain": [
       "<IPython.core.display.HTML object>"
      ]
     },
     "metadata": {},
     "output_type": "display_data"
    },
    {
     "data": {
      "text/html": [
       "<table border=\"1\" class=\"dataframe\">\n",
       "  <thead>\n",
       "    <tr style=\"text-align: right;\">\n",
       "      <th></th>\n",
       "      <th>distance</th>\n",
       "      <th>artist_id</th>\n",
       "      <th>artist</th>\n",
       "      <th>n_songs_played</th>\n",
       "    </tr>\n",
       "  </thead>\n",
       "  <tbody>\n",
       "    <tr>\n",
       "      <th>150</th>\n",
       "      <td>0.000646</td>\n",
       "      <td>150</td>\n",
       "      <td>Boney James &amp; Rick Braun</td>\n",
       "      <td>21</td>\n",
       "    </tr>\n",
       "    <tr>\n",
       "      <th>1176</th>\n",
       "      <td>0.000763</td>\n",
       "      <td>1176</td>\n",
       "      <td>The Monkees</td>\n",
       "      <td>20</td>\n",
       "    </tr>\n",
       "    <tr>\n",
       "      <th>652</th>\n",
       "      <td>0.000773</td>\n",
       "      <td>652</td>\n",
       "      <td>Kim Waters</td>\n",
       "      <td>39</td>\n",
       "    </tr>\n",
       "    <tr>\n",
       "      <th>1253</th>\n",
       "      <td>0.000815</td>\n",
       "      <td>1253</td>\n",
       "      <td>Trin-I-Tee</td>\n",
       "      <td>43</td>\n",
       "    </tr>\n",
       "    <tr>\n",
       "      <th>145</th>\n",
       "      <td>0.000819</td>\n",
       "      <td>145</td>\n",
       "      <td>Bobby Helms</td>\n",
       "      <td>21</td>\n",
       "    </tr>\n",
       "  </tbody>\n",
       "</table>"
      ],
      "text/plain": [
       "<IPython.core.display.HTML object>"
      ]
     },
     "metadata": {},
     "output_type": "display_data"
    }
   ],
   "source": [
    "WITNEY = 1300\n",
    "display_topn_most_similar(item_id=WITNEY, distances=distances, topn=5, items_metadata=artists)"
   ]
  },
  {
   "cell_type": "code",
   "execution_count": 41,
   "metadata": {
    "collapsed": false
   },
   "outputs": [
    {
     "data": {
      "text/html": [
       "<table border=\"1\" class=\"dataframe\">\n",
       "  <thead>\n",
       "    <tr style=\"text-align: right;\">\n",
       "      <th></th>\n",
       "      <th>artist_id</th>\n",
       "      <th>artist</th>\n",
       "      <th>n_songs_played</th>\n",
       "    </tr>\n",
       "  </thead>\n",
       "  <tbody>\n",
       "    <tr>\n",
       "      <th>3</th>\n",
       "      <td>3</td>\n",
       "      <td>2Pac</td>\n",
       "      <td>146</td>\n",
       "    </tr>\n",
       "  </tbody>\n",
       "</table>"
      ],
      "text/plain": [
       "<IPython.core.display.HTML object>"
      ]
     },
     "metadata": {},
     "output_type": "display_data"
    },
    {
     "data": {
      "text/html": [
       "<table border=\"1\" class=\"dataframe\">\n",
       "  <thead>\n",
       "    <tr style=\"text-align: right;\">\n",
       "      <th></th>\n",
       "      <th>distance</th>\n",
       "      <th>artist_id</th>\n",
       "      <th>artist</th>\n",
       "      <th>n_songs_played</th>\n",
       "    </tr>\n",
       "  </thead>\n",
       "  <tbody>\n",
       "    <tr>\n",
       "      <th>80</th>\n",
       "      <td>0.012453</td>\n",
       "      <td>80</td>\n",
       "      <td>Baby Bash</td>\n",
       "      <td>132</td>\n",
       "    </tr>\n",
       "    <tr>\n",
       "      <th>1008</th>\n",
       "      <td>0.016264</td>\n",
       "      <td>1008</td>\n",
       "      <td>Sean Kingston</td>\n",
       "      <td>164</td>\n",
       "    </tr>\n",
       "    <tr>\n",
       "      <th>1096</th>\n",
       "      <td>0.017437</td>\n",
       "      <td>1096</td>\n",
       "      <td>T-Pain</td>\n",
       "      <td>129</td>\n",
       "    </tr>\n",
       "    <tr>\n",
       "      <th>623</th>\n",
       "      <td>0.017870</td>\n",
       "      <td>623</td>\n",
       "      <td>Kanye West &amp; Jay-Z</td>\n",
       "      <td>134</td>\n",
       "    </tr>\n",
       "    <tr>\n",
       "      <th>695</th>\n",
       "      <td>0.019872</td>\n",
       "      <td>695</td>\n",
       "      <td>Lil' Jon &amp; The Eastside Boyz</td>\n",
       "      <td>110</td>\n",
       "    </tr>\n",
       "  </tbody>\n",
       "</table>"
      ],
      "text/plain": [
       "<IPython.core.display.HTML object>"
      ]
     },
     "metadata": {},
     "output_type": "display_data"
    }
   ],
   "source": [
    "TWOPAC = 3\n",
    "display_topn_most_similar(item_id=TWOPAC, distances=distances, topn=5, items_metadata=artists)"
   ]
  },
  {
   "cell_type": "code",
   "execution_count": 42,
   "metadata": {
    "collapsed": false
   },
   "outputs": [
    {
     "data": {
      "text/html": [
       "<table border=\"1\" class=\"dataframe\">\n",
       "  <thead>\n",
       "    <tr style=\"text-align: right;\">\n",
       "      <th></th>\n",
       "      <th>artist_id</th>\n",
       "      <th>artist</th>\n",
       "      <th>n_songs_played</th>\n",
       "    </tr>\n",
       "  </thead>\n",
       "  <tbody>\n",
       "    <tr>\n",
       "      <th>1129</th>\n",
       "      <td>1129</td>\n",
       "      <td>The Beatles</td>\n",
       "      <td>105</td>\n",
       "    </tr>\n",
       "  </tbody>\n",
       "</table>"
      ],
      "text/plain": [
       "<IPython.core.display.HTML object>"
      ]
     },
     "metadata": {},
     "output_type": "display_data"
    },
    {
     "data": {
      "text/html": [
       "<table border=\"1\" class=\"dataframe\">\n",
       "  <thead>\n",
       "    <tr style=\"text-align: right;\">\n",
       "      <th></th>\n",
       "      <th>distance</th>\n",
       "      <th>artist_id</th>\n",
       "      <th>artist</th>\n",
       "      <th>n_songs_played</th>\n",
       "    </tr>\n",
       "  </thead>\n",
       "  <tbody>\n",
       "    <tr>\n",
       "      <th>1153</th>\n",
       "      <td>0.002826</td>\n",
       "      <td>1153</td>\n",
       "      <td>The Electric Light Orchestra</td>\n",
       "      <td>83</td>\n",
       "    </tr>\n",
       "    <tr>\n",
       "      <th>1093</th>\n",
       "      <td>0.003196</td>\n",
       "      <td>1093</td>\n",
       "      <td>Supertramp</td>\n",
       "      <td>88</td>\n",
       "    </tr>\n",
       "    <tr>\n",
       "      <th>1239</th>\n",
       "      <td>0.003222</td>\n",
       "      <td>1239</td>\n",
       "      <td>Toto</td>\n",
       "      <td>41</td>\n",
       "    </tr>\n",
       "    <tr>\n",
       "      <th>82</th>\n",
       "      <td>0.003654</td>\n",
       "      <td>82</td>\n",
       "      <td>Bachman-Turner Overdrive</td>\n",
       "      <td>104</td>\n",
       "    </tr>\n",
       "    <tr>\n",
       "      <th>453</th>\n",
       "      <td>0.004068</td>\n",
       "      <td>453</td>\n",
       "      <td>Golden Earring</td>\n",
       "      <td>55</td>\n",
       "    </tr>\n",
       "    <tr>\n",
       "      <th>1163</th>\n",
       "      <td>0.004253</td>\n",
       "      <td>1163</td>\n",
       "      <td>The Guess Who</td>\n",
       "      <td>59</td>\n",
       "    </tr>\n",
       "    <tr>\n",
       "      <th>1070</th>\n",
       "      <td>0.004829</td>\n",
       "      <td>1070</td>\n",
       "      <td>Steppenwolf</td>\n",
       "      <td>88</td>\n",
       "    </tr>\n",
       "    <tr>\n",
       "      <th>1257</th>\n",
       "      <td>0.005047</td>\n",
       "      <td>1257</td>\n",
       "      <td>Twisted Sister</td>\n",
       "      <td>33</td>\n",
       "    </tr>\n",
       "    <tr>\n",
       "      <th>897</th>\n",
       "      <td>0.005140</td>\n",
       "      <td>897</td>\n",
       "      <td>Peter Frampton</td>\n",
       "      <td>71</td>\n",
       "    </tr>\n",
       "    <tr>\n",
       "      <th>69</th>\n",
       "      <td>0.005580</td>\n",
       "      <td>69</td>\n",
       "      <td>Autograph</td>\n",
       "      <td>28</td>\n",
       "    </tr>\n",
       "  </tbody>\n",
       "</table>"
      ],
      "text/plain": [
       "<IPython.core.display.HTML object>"
      ]
     },
     "metadata": {},
     "output_type": "display_data"
    }
   ],
   "source": [
    "BEATLES = 1129\n",
    "#output_distances = embeddings_to_distances(pd.DataFrame(data=output_embeddings))\n",
    "display_topn_most_similar(item_id=BEATLES, distances=distances, topn=10, items_metadata=artists)"
   ]
  },
  {
   "cell_type": "code",
   "execution_count": 43,
   "metadata": {
    "collapsed": false
   },
   "outputs": [
    {
     "data": {
      "text/html": [
       "<table border=\"1\" class=\"dataframe\">\n",
       "  <thead>\n",
       "    <tr style=\"text-align: right;\">\n",
       "      <th></th>\n",
       "      <th>artist_id</th>\n",
       "      <th>artist</th>\n",
       "      <th>n_songs_played</th>\n",
       "    </tr>\n",
       "  </thead>\n",
       "  <tbody>\n",
       "    <tr>\n",
       "      <th>1190</th>\n",
       "      <td>1190</td>\n",
       "      <td>The Rolling Stones</td>\n",
       "      <td>375</td>\n",
       "    </tr>\n",
       "  </tbody>\n",
       "</table>"
      ],
      "text/plain": [
       "<IPython.core.display.HTML object>"
      ]
     },
     "metadata": {},
     "output_type": "display_data"
    },
    {
     "data": {
      "text/html": [
       "<table border=\"1\" class=\"dataframe\">\n",
       "  <thead>\n",
       "    <tr style=\"text-align: right;\">\n",
       "      <th></th>\n",
       "      <th>distance</th>\n",
       "      <th>artist_id</th>\n",
       "      <th>artist</th>\n",
       "      <th>n_songs_played</th>\n",
       "    </tr>\n",
       "  </thead>\n",
       "  <tbody>\n",
       "    <tr>\n",
       "      <th>608</th>\n",
       "      <td>0.008029</td>\n",
       "      <td>608</td>\n",
       "      <td>Judas Priest</td>\n",
       "      <td>138</td>\n",
       "    </tr>\n",
       "    <tr>\n",
       "      <th>1170</th>\n",
       "      <td>0.008336</td>\n",
       "      <td>1170</td>\n",
       "      <td>The Jimi Hendrix Experience</td>\n",
       "      <td>237</td>\n",
       "    </tr>\n",
       "    <tr>\n",
       "      <th>984</th>\n",
       "      <td>0.009725</td>\n",
       "      <td>984</td>\n",
       "      <td>Rush</td>\n",
       "      <td>226</td>\n",
       "    </tr>\n",
       "    <tr>\n",
       "      <th>311</th>\n",
       "      <td>0.012075</td>\n",
       "      <td>311</td>\n",
       "      <td>Def Leppard</td>\n",
       "      <td>418</td>\n",
       "    </tr>\n",
       "    <tr>\n",
       "      <th>1111</th>\n",
       "      <td>0.014140</td>\n",
       "      <td>1111</td>\n",
       "      <td>Temple Of The Dog</td>\n",
       "      <td>76</td>\n",
       "    </tr>\n",
       "    <tr>\n",
       "      <th>1004</th>\n",
       "      <td>0.015173</td>\n",
       "      <td>1004</td>\n",
       "      <td>Scorpions</td>\n",
       "      <td>191</td>\n",
       "    </tr>\n",
       "    <tr>\n",
       "      <th>696</th>\n",
       "      <td>0.016469</td>\n",
       "      <td>696</td>\n",
       "      <td>Limp Bizkit</td>\n",
       "      <td>52</td>\n",
       "    </tr>\n",
       "    <tr>\n",
       "      <th>756</th>\n",
       "      <td>0.016717</td>\n",
       "      <td>756</td>\n",
       "      <td>Marcy Playground</td>\n",
       "      <td>43</td>\n",
       "    </tr>\n",
       "    <tr>\n",
       "      <th>285</th>\n",
       "      <td>0.016823</td>\n",
       "      <td>285</td>\n",
       "      <td>Danzig</td>\n",
       "      <td>71</td>\n",
       "    </tr>\n",
       "    <tr>\n",
       "      <th>63</th>\n",
       "      <td>0.017309</td>\n",
       "      <td>63</td>\n",
       "      <td>Apocalyptica</td>\n",
       "      <td>148</td>\n",
       "    </tr>\n",
       "  </tbody>\n",
       "</table>"
      ],
      "text/plain": [
       "<IPython.core.display.HTML object>"
      ]
     },
     "metadata": {},
     "output_type": "display_data"
    }
   ],
   "source": [
    "ROLLING = 1190\n",
    "display_topn_most_similar(item_id=ROLLING, distances=distances, topn=10, items_metadata=artists)"
   ]
  }
 ],
 "metadata": {
  "kernelspec": {
   "display_name": "Python [conda root]",
   "language": "python",
   "name": "conda-root-py"
  },
  "language_info": {
   "codemirror_mode": {
    "name": "ipython",
    "version": 3
   },
   "file_extension": ".py",
   "mimetype": "text/x-python",
   "name": "python",
   "nbconvert_exporter": "python",
   "pygments_lexer": "ipython3",
   "version": "3.5.2"
  }
 },
 "nbformat": 4,
 "nbformat_minor": 1
}
