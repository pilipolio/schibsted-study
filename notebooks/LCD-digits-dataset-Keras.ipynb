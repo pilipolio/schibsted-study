{
 "cells": [
  {
   "cell_type": "markdown",
   "metadata": {},
   "source": [
    "# LCD digits dataset shows NMF parts-based decomposition\n",
    "\n",
    "This synthetic image dataset shows very nicely how NMF decompose images as the sums of their parts.  The collection of images is encoded as a 2d array of non-negative values.  Each row corresponds to an image, and each column corresponds to a pixel.  The non-negative entries represent the whiteness of the pixel, encoded here as a value between 0 and 1.\n",
    " \n",
    " * See also the accompanying blog post http://building-babylon.net/2016/12/28/an-lcd-digit-dataset-for-illustrating-the-parts-based-representation-of-nmf/ .\n",
    " * Original found https://gist.github.com/benjaminwilson/b25a321f292f98d74269b83d4ed2b9a8#file-lcd-digits-dataset-nmf-ipynb\n",
    "\n",
    "Released under Apache Licence v2.0.  I hope you find it useful."
   ]
  },
  {
   "cell_type": "code",
   "execution_count": 2,
   "metadata": {
    "collapsed": true
   },
   "outputs": [],
   "source": [
    "length = 4  # length of any LCD cell (\"stroke\")\n",
    "shape = (2 * length + 5, length + 4)  # shape of the images"
   ]
  },
  {
   "cell_type": "markdown",
   "metadata": {},
   "source": [
    "## Code for displaying a vector as an image"
   ]
  },
  {
   "cell_type": "code",
   "execution_count": 3,
   "metadata": {
    "collapsed": false
   },
   "outputs": [],
   "source": [
    "from matplotlib import pyplot as plt\n",
    "\n",
    "def show_as_image(vector):\n",
    "    \"\"\"\n",
    "    Given a 1d vector representing an image, display that image in \n",
    "    black and white.  If there are negative values, then use red for \n",
    "    that pixel.\n",
    "    (displaying negative pixel values in red allows e.g. visual contrasting\n",
    "    of PCA and NMF components)\n",
    "    \"\"\"\n",
    "    bitmap = vector.copy().reshape(shape)  # make a square array\n",
    "    bitmap /= np.abs(vector).max()  # normalise (a copy!)\n",
    "    bitmap = bitmap[:,:,np.newaxis]\n",
    "    rgb_layers = [np.abs(bitmap)] + [bitmap.clip(0)] * 2\n",
    "    rgb_bitmap = np.concatenate(rgb_layers, axis=-1)\n",
    "    plt.figure(figsize=(2, 1))\n",
    "    plt.imshow(rgb_bitmap, interpolation='nearest')\n",
    "    plt.xticks([])\n",
    "    plt.yticks([])\n",
    "    plt.show()"
   ]
  },
  {
   "cell_type": "markdown",
   "metadata": {},
   "source": [
    "## Code for generating the images"
   ]
  },
  {
   "cell_type": "code",
   "execution_count": 4,
   "metadata": {
    "collapsed": false
   },
   "outputs": [
    {
     "name": "stdout",
     "output_type": "stream",
     "text": [
      "[[ 0.  0.  0.  0.  0.  0.  0.  0.]\n",
      " [ 0.  0.  1.  1.  1.  1.  0.  0.]\n",
      " [ 0.  0.  0.  0.  0.  0.  0.  0.]\n",
      " [ 0.  0.  0.  0.  0.  0.  0.  0.]\n",
      " [ 0.  0.  0.  0.  0.  0.  0.  0.]\n",
      " [ 0.  0.  0.  0.  0.  0.  0.  0.]\n",
      " [ 0.  0.  0.  0.  0.  0.  0.  0.]\n",
      " [ 0.  0.  0.  0.  0.  0.  0.  0.]\n",
      " [ 0.  0.  0.  0.  0.  0.  0.  0.]\n",
      " [ 0.  0.  0.  0.  0.  0.  0.  0.]\n",
      " [ 0.  0.  0.  0.  0.  0.  0.  0.]\n",
      " [ 0.  0.  0.  0.  0.  0.  0.  0.]\n",
      " [ 0.  0.  0.  0.  0.  0.  0.  0.]]\n"
     ]
    }
   ],
   "source": [
    "import numpy as np\n",
    "\n",
    "def vertical_stroke(rightness, downness):\n",
    "    \"\"\"\n",
    "    Return a 2d numpy array representing an image with a single vertical stroke in it.\n",
    "    `rightness` and `downness` are values from [0, 1] and define the position of the vertical stroke.\n",
    "    \"\"\"\n",
    "    i = (downness * (length + 1)) + 2\n",
    "    j = rightness * (length + 1) + 1\n",
    "    x = np.zeros(shape=shape, dtype=np.float64)\n",
    "    for delta in range(length):\n",
    "        x[i + delta, j] = 1.\n",
    "    return x\n",
    "\n",
    "def horizontal_stroke(downness):\n",
    "    \"\"\"\n",
    "    Analogue to vertical_stroke, but it returns horizontal strokes.\n",
    "    `downness` is here a value in [0, 1, 2].\n",
    "    \"\"\"\n",
    "    i = (downness * (length + 1)) + 1\n",
    "    x = np.zeros(shape=shape, dtype=np.float64)\n",
    "    for j in range(length):\n",
    "        x[i, 2 + j] = 1.\n",
    "    return x\n",
    "\n",
    "print(horizontal_stroke(0))"
   ]
  },
  {
   "cell_type": "code",
   "execution_count": 5,
   "metadata": {
    "collapsed": false
   },
   "outputs": [],
   "source": [
    "strokes = [horizontal_stroke(k) for k in range(3)] + [vertical_stroke(k, l) for k in range(2) for l in range(2)]"
   ]
  },
  {
   "cell_type": "code",
   "execution_count": 6,
   "metadata": {
    "collapsed": false
   },
   "outputs": [],
   "source": [
    "import random\n",
    "\n",
    "def random_composition():\n",
    "    \"\"\"\n",
    "    Return a random composition of 2, 3, 4, or 5 strokes as a single 2d numpy array.\n",
    "    (So not guaranteed to look like a real digit!)\n",
    "    \"\"\"\n",
    "    x = np.zeros(shape=shape, dtype=np.float64)\n",
    "    num_strokes = random.choice([2, 3, 4, 5])\n",
    "    sample = random.sample(strokes, num_strokes) # without replacement\n",
    "    for atom in sample:\n",
    "        x += atom\n",
    "    return x"
   ]
  },
  {
   "cell_type": "code",
   "execution_count": 7,
   "metadata": {
    "collapsed": false
   },
   "outputs": [
    {
     "name": "stdout",
     "output_type": "stream",
     "text": [
      "[[ 0.  0.  0.  0.  0.  0.  0.  0.]\n",
      " [ 0.  0.  1.  1.  1.  1.  0.  0.]\n",
      " [ 0.  1.  0.  0.  0.  0.  0.  0.]\n",
      " [ 0.  1.  0.  0.  0.  0.  0.  0.]\n",
      " [ 0.  1.  0.  0.  0.  0.  0.  0.]\n",
      " [ 0.  1.  0.  0.  0.  0.  0.  0.]\n",
      " [ 0.  0.  0.  0.  0.  0.  0.  0.]\n",
      " [ 0.  0.  0.  0.  0.  0.  0.  0.]\n",
      " [ 0.  0.  0.  0.  0.  0.  0.  0.]\n",
      " [ 0.  0.  0.  0.  0.  0.  0.  0.]\n",
      " [ 0.  0.  0.  0.  0.  0.  0.  0.]\n",
      " [ 0.  0.  1.  1.  1.  1.  0.  0.]\n",
      " [ 0.  0.  0.  0.  0.  0.  0.  0.]]\n"
     ]
    }
   ],
   "source": [
    "bitmap = random_composition()\n",
    "print(bitmap)"
   ]
  },
  {
   "cell_type": "code",
   "execution_count": 8,
   "metadata": {
    "collapsed": false
   },
   "outputs": [
    {
     "data": {
      "image/png": "[encoded data removed]",
      "text/plain": [
       "<matplotlib.figure.Figure at 0x10708e7f0>"
      ]
     },
     "metadata": {},
     "output_type": "display_data"
    }
   ],
   "source": [
    "show_as_image(bitmap.flatten())"
   ]
  },
  {
   "cell_type": "markdown",
   "metadata": {},
   "source": [
    "## Generate the dataset"
   ]
  },
  {
   "cell_type": "code",
   "execution_count": 9,
   "metadata": {
    "collapsed": false
   },
   "outputs": [
    {
     "name": "stdout",
     "output_type": "stream",
     "text": [
      "(200, 104)\n"
     ]
    }
   ],
   "source": [
    "N = 200\n",
    "samples = [random_composition().flatten() for _ in range(N)]\n",
    "X = np.vstack(samples)\n",
    "print(X.shape)"
   ]
  },
  {
   "cell_type": "markdown",
   "metadata": {
    "collapsed": true
   },
   "source": [
    "## Learning the individual cells with a Keras based NNMF\n",
    "\n",
    "Based on formula (1) from http://www.cs.princeton.edu/courses/archive/spring12/cos424/pdf/lee-seung.pdf, an image $i$ from our dataset $X$ is approximated by a weighted combination $\\mathbf{W}_i$ of $k=1, \\cdots, K$ basis images $\\mathbf{H}_k$.\n",
    "\n",
    "$$ \\mathbf{X}_i \\approx \\mathbf{W}_i \\mathbf{H} = \\sum_{k=1}^K \\mathbf{W}_{ik} \\mathbf{H}_{k}$$\n",
    "\n",
    "We can express this formula into a two layers neural network:\n",
    "\n",
    " 1. Given an image id $i$, find its coordinates $\\mathbf{W}_i$ in terms of basis images \n",
    "\n",
    "$\\Rightarrow$ our input will be a simple vector of row indexes `X_image_ids` and `keras.layers.Embedding` will mapped each id $i$ into its embedding $\\mathbf{W}_i$\n",
    "\n",
    " 2. (1bis) Reshape the embedding into `Reshape((embedding_size,))`\n",
    "\n",
    " 2. Given a set coordinates/weights $\\mathbf{W}_i$, multiply with $\\mathbf{H}$ to reconstruct the image \n",
    "\n",
    "$\\Rightarrow$ this simply translates as a `keras.layers.Dense` layer with `output_dim` equals to the number of pixels and no biases \n"
   ]
  },
  {
   "cell_type": "code",
   "execution_count": 19,
   "metadata": {
    "collapsed": false
   },
   "outputs": [
    {
     "name": "stdout",
     "output_type": "stream",
     "text": [
      "0.12.0-rc0\n",
      "1.1.0\n"
     ]
    },
    {
     "data": {
      "text/plain": [
       "array([0, 1, 2, 3, 4, 5, 6, 7, 8, 9])"
      ]
     },
     "execution_count": 19,
     "metadata": {},
     "output_type": "execute_result"
    }
   ],
   "source": [
    "import tensorflow as tf\n",
    "\n",
    "import keras\n",
    "from keras.layers import Embedding, Reshape, Dense, Activation\n",
    "from keras.models import Sequential\n",
    "from keras.constraints import nonneg\n",
    "\n",
    "from keras import backend as K\n",
    "\n",
    "sess = tf.InteractiveSession()\n",
    "K.set_session(sess)\n",
    "\n",
    "print(tf.__version__)\n",
    "print(keras.__version__)\n",
    "\n",
    "\n",
    "n_images, n_pixels = X.shape\n",
    "K = embedding_size = 7\n",
    "\n",
    "X_image_ids = np.arange(n_images)\n",
    "\n",
    "X_image_ids[:10]"
   ]
  },
  {
   "cell_type": "code",
   "execution_count": 27,
   "metadata": {
    "collapsed": false
   },
   "outputs": [],
   "source": [
    "### EXERCISE \n",
    "# initialise a \n",
    "# model = Sequential(...)\n",
    "# with all the 3 layers listed above\n",
    "# You can test it by doing \n",
    "# show_as_image(X[1])\n",
    "# show_as_image(model.predict(np.array([[0]])))\n",
    "# which should show some random prediction as the model is not trained yet"
   ]
  },
  {
   "cell_type": "code",
   "execution_count": 26,
   "metadata": {
    "collapsed": true
   },
   "outputs": [],
   "source": [
    "### SOLUTION ###\n",
    "\n",
    "\n",
    "\n",
    "\n",
    "\n",
    "weights_contraint = None\n",
    "image_to_embeddings = Embedding(input_dim=n_images, output_dim=embedding_size, input_length=1, init='uniform', W_constraint=weights_contraint)\n",
    "\n",
    "embeddings_to_images = Dense(output_dim=n_pixels, bias=False, W_constraint=weights_contraint)\n",
    "\n",
    "model = Sequential([\n",
    "    image_to_embeddings,\n",
    "    Reshape((embedding_size,)), # getting rid of the superfluous dimension of input_length=1\n",
    "    embeddings_to_images])"
   ]
  },
  {
   "cell_type": "code",
   "execution_count": 21,
   "metadata": {
    "collapsed": false
   },
   "outputs": [
    {
     "data": {
      "image/png": "[encoded data removed]",
      "text/plain": [
       "<matplotlib.figure.Figure at 0x11ade4320>"
      ]
     },
     "metadata": {},
     "output_type": "display_data"
    },
    {
     "data": {
      "image/png": "[encoded data removed]",
      "text/plain": [
       "<matplotlib.figure.Figure at 0x11aead358>"
      ]
     },
     "metadata": {},
     "output_type": "display_data"
    }
   ],
   "source": [
    "show_as_image(X[1])\n",
    "show_as_image(model.predict(np.array([[0]])))"
   ]
  },
  {
   "cell_type": "code",
   "execution_count": 29,
   "metadata": {
    "collapsed": true
   },
   "outputs": [],
   "source": [
    "### EXERCISE \n",
    "# compile the model using mean_squared_error and Adam optimizer\n",
    "# then fit the model by feeding X_images and X as x/y\n",
    "# use fit(..., batch_size=n_images, verbose=0, nb_epoch=1000)\n",
    "\n",
    "# Check your result by looking at the predicted image as above\n",
    "from keras.optimizers import Adam"
   ]
  },
  {
   "cell_type": "code",
   "execution_count": 22,
   "metadata": {
    "collapsed": false
   },
   "outputs": [
    {
     "data": {
      "text/plain": [
       "<keras.callbacks.History at 0x11aef2a20>"
      ]
     },
     "execution_count": 22,
     "metadata": {},
     "output_type": "execute_result"
    }
   ],
   "source": [
    "### SOLUTION\n",
    "\n",
    "\n",
    "\n",
    "\n",
    "\n",
    "\n",
    "from keras.optimizers import Adam\n",
    "\n",
    "model.compile(loss='mean_squared_error', optimizer=Adam())\n",
    "\n",
    "X_image_ids = np.arange(n_images)\n",
    "\n",
    "model.fit(\n",
    "    x=X_image_ids, \n",
    "    y=X,\n",
    "    batch_size=n_images, verbose=0, nb_epoch=1000)\n",
    "          \n",
    "#repeats = 1000\n",
    "#model.fit(x=np.tile(X_image_ids, repeats), y=np.tile(X, (repeats, 1)),\n",
    "#          batch_size=n_images, verbose=2, nb_epoch=10)"
   ]
  },
  {
   "cell_type": "code",
   "execution_count": 23,
   "metadata": {
    "collapsed": false
   },
   "outputs": [
    {
     "data": {
      "image/png": "[encoded data removed]",
      "text/plain": [
       "<matplotlib.figure.Figure at 0x11b02c940>"
      ]
     },
     "metadata": {},
     "output_type": "display_data"
    },
    {
     "data": {
      "image/png": "[encoded data removed]",
      "text/plain": [
       "<matplotlib.figure.Figure at 0x11b07af28>"
      ]
     },
     "metadata": {},
     "output_type": "display_data"
    }
   ],
   "source": [
    "show_as_image(X[0])\n",
    "show_as_image(model.predict(np.array([[0]])))"
   ]
  },
  {
   "cell_type": "markdown",
   "metadata": {},
   "source": [
    "## Visualising the basis of images learnt\n",
    "\n",
    " * A vanilla neural net will converge to a basis of images with good predictive power but not meaningful  \n",
    " * Go back to the `model` above and use `keras.constraints.nonneg` (look at doc) to add positive constraints on the layers and look at the learnt basis (each basis image should be one of the 7 cells)"
   ]
  },
  {
   "cell_type": "code",
   "execution_count": 24,
   "metadata": {
    "collapsed": false
   },
   "outputs": [
    {
     "data": {
      "image/png": "[encoded data removed]",
      "text/plain": [
       "<matplotlib.figure.Figure at 0x11aed87b8>"
      ]
     },
     "metadata": {},
     "output_type": "display_data"
    },
    {
     "data": {
      "image/png": "[encoded data removed]",
      "text/plain": [
       "<matplotlib.figure.Figure at 0x11b55c9b0>"
      ]
     },
     "metadata": {},
     "output_type": "display_data"
    },
    {
     "data": {
      "image/png": "[encoded data removed]",
      "text/plain": [
       "<matplotlib.figure.Figure at 0x11b59c400>"
      ]
     },
     "metadata": {},
     "output_type": "display_data"
    },
    {
     "data": {
      "image/png": "[encoded data removed]",
      "text/plain": [
       "<matplotlib.figure.Figure at 0x11b5f0898>"
      ]
     },
     "metadata": {},
     "output_type": "display_data"
    },
    {
     "data": {
      "image/png": "[encoded data removed]",
      "text/plain": [
       "<matplotlib.figure.Figure at 0x11b6400b8>"
      ]
     },
     "metadata": {},
     "output_type": "display_data"
    },
    {
     "data": {
      "image/png": "[encoded data removed]",
      "text/plain": [
       "<matplotlib.figure.Figure at 0x11b61e240>"
      ]
     },
     "metadata": {},
     "output_type": "display_data"
    },
    {
     "data": {
      "image/png": "[encoded data removed]",
      "text/plain": [
       "<matplotlib.figure.Figure at 0x11ae7ea90>"
      ]
     },
     "metadata": {},
     "output_type": "display_data"
    }
   ],
   "source": [
    "for component in embeddings_to_images.weights[0].eval():\n",
    "    show_as_image(component)"
   ]
  },
  {
   "cell_type": "code",
   "execution_count": null,
   "metadata": {
    "collapsed": true
   },
   "outputs": [],
   "source": []
  }
 ],
 "metadata": {
  "anaconda-cloud": {},
  "kernelspec": {
   "display_name": "Python [conda root]",
   "language": "python",
   "name": "conda-root-py"
  },
  "language_info": {
   "codemirror_mode": {
    "name": "ipython",
    "version": 3
   },
   "file_extension": ".py",
   "mimetype": "text/x-python",
   "name": "python",
   "nbconvert_exporter": "python",
   "pygments_lexer": "ipython3",
   "version": "3.5.2"
  }
 },
 "nbformat": 4,
 "nbformat_minor": 0
}
