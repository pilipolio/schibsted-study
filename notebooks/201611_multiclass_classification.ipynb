{
 "cells": [
  {
   "cell_type": "code",
   "execution_count": 1,
   "metadata": {
    "collapsed": false
   },
   "outputs": [],
   "source": [
    "import tensorflow as tf\n",
    "import numpy as np\n",
    "import matplotlib.pyplot as plt\n",
    "import pandas as pd\n",
    "\n",
    "%matplotlib inline\n",
    "sess = tf.InteractiveSession()"
   ]
  },
  {
   "cell_type": "code",
   "execution_count": 2,
   "metadata": {
    "collapsed": false
   },
   "outputs": [
    {
     "name": "stdout",
     "output_type": "stream",
     "text": [
      "--2016-11-25 14:52:15--  http://www.math.uah.edu/stat/data/Fisher.csv\n",
      "Resolving www.math.uah.edu... 146.229.1.10\n",
      "Connecting to www.math.uah.edu|146.229.1.10|:80... connected.\n",
      "HTTP request sent, awaiting response... 200 OK\n",
      "Length: 2218 (2.2K) [text/csv]\n",
      "Saving to: 'Fisher.csv.2'\n",
      "\n",
      "Fisher.csv.2        100%[=====================>]   2.17K  --.-KB/s   in 0s     \n",
      "\n",
      "2016-11-25 14:52:16 (118 MB/s) - 'Fisher.csv.2' saved [2218/2218]\n",
      "\n"
     ]
    }
   ],
   "source": [
    "! wget www.math.uah.edu/stat/data/Fisher.csv"
   ]
  },
  {
   "cell_type": "code",
   "execution_count": 2,
   "metadata": {
    "collapsed": false
   },
   "outputs": [
    {
     "data": {
      "text/html": [
       "<div>\n",
       "<table border=\"1\" class=\"dataframe\">\n",
       "  <thead>\n",
       "    <tr style=\"text-align: right;\">\n",
       "      <th></th>\n",
       "      <th>target</th>\n",
       "      <th>petal_width</th>\n",
       "      <th>petal_length</th>\n",
       "      <th>sepal_width</th>\n",
       "      <th>sepal_length</th>\n",
       "    </tr>\n",
       "  </thead>\n",
       "  <tbody>\n",
       "    <tr>\n",
       "      <th>0</th>\n",
       "      <td>0</td>\n",
       "      <td>2</td>\n",
       "      <td>14</td>\n",
       "      <td>33</td>\n",
       "      <td>50</td>\n",
       "    </tr>\n",
       "    <tr>\n",
       "      <th>1</th>\n",
       "      <td>1</td>\n",
       "      <td>24</td>\n",
       "      <td>56</td>\n",
       "      <td>31</td>\n",
       "      <td>67</td>\n",
       "    </tr>\n",
       "    <tr>\n",
       "      <th>2</th>\n",
       "      <td>1</td>\n",
       "      <td>23</td>\n",
       "      <td>51</td>\n",
       "      <td>31</td>\n",
       "      <td>69</td>\n",
       "    </tr>\n",
       "    <tr>\n",
       "      <th>3</th>\n",
       "      <td>0</td>\n",
       "      <td>2</td>\n",
       "      <td>10</td>\n",
       "      <td>36</td>\n",
       "      <td>46</td>\n",
       "    </tr>\n",
       "    <tr>\n",
       "      <th>4</th>\n",
       "      <td>1</td>\n",
       "      <td>20</td>\n",
       "      <td>52</td>\n",
       "      <td>30</td>\n",
       "      <td>65</td>\n",
       "    </tr>\n",
       "  </tbody>\n",
       "</table>\n",
       "</div>"
      ],
      "text/plain": [
       "   target  petal_width  petal_length  sepal_width  sepal_length\n",
       "0       0            2            14           33            50\n",
       "1       1           24            56           31            67\n",
       "2       1           23            51           31            69\n",
       "3       0            2            10           36            46\n",
       "4       1           20            52           30            65"
      ]
     },
     "execution_count": 2,
     "metadata": {},
     "output_type": "execute_result"
    }
   ],
   "source": [
    "iris = pd.read_csv('Fisher.csv', \n",
    "                   skiprows=1, names=['target', 'petal_width', 'petal_length', 'sepal_width', 'sepal_length'])\n",
    "\n",
    "iris.head()"
   ]
  },
  {
   "cell_type": "code",
   "execution_count": 3,
   "metadata": {
    "collapsed": false
   },
   "outputs": [],
   "source": [
    "# number of input features + 1 constant term\n",
    "feature_columns = iris.columns[1:]\n",
    "feature_columns = ['sepal_length', 'petal_width']\n",
    "D = len(feature_columns) + 1\n",
    "\n",
    "n_samples = iris.shape[0]\n",
    "C = iris.target.nunique()"
   ]
  },
  {
   "cell_type": "code",
   "execution_count": 4,
   "metadata": {
    "collapsed": false
   },
   "outputs": [
    {
     "data": {
      "text/plain": [
       "array([[  1.,  50.,   2.],\n",
       "       [  1.,  67.,  24.],\n",
       "       [  1.,  69.,  23.],\n",
       "       [  1.,  46.,   2.],\n",
       "       [  1.,  65.,  20.],\n",
       "       [  1.,  58.,  19.],\n",
       "       [  1.,  57.,  13.],\n",
       "       [  1.,  63.,  16.],\n",
       "       [  1.,  49.,  17.],\n",
       "       [  1.,  70.,  14.]])"
      ]
     },
     "execution_count": 4,
     "metadata": {},
     "output_type": "execute_result"
    }
   ],
   "source": [
    "train_X = np.hstack((\n",
    "        np.ones(shape=(n_samples, 1)), \n",
    "        iris[feature_columns].values))\n",
    "train_Y = iris.target.values\n",
    "\n",
    "train_X[:10,:]"
   ]
  },
  {
   "cell_type": "code",
   "execution_count": 74,
   "metadata": {
    "collapsed": false
   },
   "outputs": [
    {
     "data": {
      "image/png": "[encoded data removed]",
      "text/plain": [
       "<matplotlib.figure.Figure at 0x11aeffe80>"
      ]
     },
     "metadata": {},
     "output_type": "display_data"
    }
   ],
   "source": [
    "def plot_result(predicted_classes=None):\n",
    "\n",
    "    if predicted_classes is None:\n",
    "        plt.plot(train_X[:, 1], train_X[:, 2], 'o', ms=8, alpha=.3, color='grey');\n",
    "    else:\n",
    "        for c in range(C):\n",
    "            mask = predicted_classes == c\n",
    "            plt.plot(train_X[mask, 1], train_X[mask, 2], 'o', ms=8, alpha=.3, mec='none')\n",
    "    plt.gca().set_prop_cycle(None)\n",
    "    for c in range(C):\n",
    "        mask = iris.target.values == c    \n",
    "        plt.plot(train_X[mask, 1], train_X[mask, 2], 'o', ms=4, mec='none', label='$y = {}$'.format(c));\n",
    "    plt.legend()\n",
    "    \n",
    "plot_result()"
   ]
  },
  {
   "cell_type": "markdown",
   "metadata": {},
   "source": [
    "## Model and cost function"
   ]
  },
  {
   "cell_type": "code",
   "execution_count": 75,
   "metadata": {
    "collapsed": false
   },
   "outputs": [],
   "source": [
    "X = tf.placeholder(\"float\", shape = [None, D])\n",
    "Y = tf.placeholder(\"int32\", shape = [None])\n",
    "\n",
    "W = tf.Variable(tf.zeros_initializer(shape=(D, C)))\n",
    "sess.run(W.initializer)\n",
    "\n",
    "scores = tf.matmul(X, W)\n",
    "\n",
    "probabilities = tf.nn.softmax(scores)"
   ]
  },
  {
   "cell_type": "code",
   "execution_count": 76,
   "metadata": {
    "collapsed": false
   },
   "outputs": [
    {
     "data": {
      "text/plain": [
       "<tf.Tensor 'Softmax_6:0' shape=(?, 3) dtype=float32>"
      ]
     },
     "execution_count": 76,
     "metadata": {},
     "output_type": "execute_result"
    }
   ],
   "source": [
    "probabilities"
   ]
  },
  {
   "cell_type": "code",
   "execution_count": 77,
   "metadata": {
    "collapsed": false
   },
   "outputs": [
    {
     "data": {
      "text/plain": [
       "array([[ 0.33333334,  0.33333334,  0.33333334],\n",
       "       [ 0.33333334,  0.33333334,  0.33333334],\n",
       "       [ 0.33333334,  0.33333334,  0.33333334],\n",
       "       [ 0.33333334,  0.33333334,  0.33333334],\n",
       "       [ 0.33333334,  0.33333334,  0.33333334]], dtype=float32)"
      ]
     },
     "execution_count": 77,
     "metadata": {},
     "output_type": "execute_result"
    }
   ],
   "source": [
    "sess.run(probabilities, feed_dict={X: train_X[:5, :]})"
   ]
  },
  {
   "cell_type": "code",
   "execution_count": 78,
   "metadata": {
    "collapsed": false
   },
   "outputs": [
    {
     "data": {
      "text/plain": [
       "<tf.Tensor 'SparseSoftmaxCrossEntropyWithLogits_7/SparseSoftmaxCrossEntropyWithLogits:0' shape=(?,) dtype=float32>"
      ]
     },
     "execution_count": 78,
     "metadata": {},
     "output_type": "execute_result"
    }
   ],
   "source": [
    "softmax_sample_losses = tf.nn.sparse_softmax_cross_entropy_with_logits(\n",
    "    logits=probabilities,\n",
    "    labels=Y)\n",
    "\n",
    "softmax_sample_losses"
   ]
  },
  {
   "cell_type": "code",
   "execution_count": 79,
   "metadata": {
    "collapsed": false
   },
   "outputs": [
    {
     "name": "stdout",
     "output_type": "stream",
     "text": [
      "batch average loss 1.09861\n"
     ]
    },
    {
     "data": {
      "text/plain": [
       "array([ 1.09861231,  1.09861231,  1.09861231,  1.09861231,  1.09861231], dtype=float32)"
      ]
     },
     "execution_count": 79,
     "metadata": {},
     "output_type": "execute_result"
    }
   ],
   "source": [
    "softmax_loss = tf.reduce_mean(softmax_sample_losses)\n",
    "print('batch average loss', sess.run(softmax_loss, feed_dict={X: train_X[:5, :], Y: train_Y[:5]}))\n",
    "\n",
    "sess.run(softmax_sample_losses, feed_dict={X: train_X[:5, :], Y: train_Y[:5]})"
   ]
  },
  {
   "cell_type": "code",
   "execution_count": 80,
   "metadata": {
    "collapsed": false
   },
   "outputs": [
    {
     "name": "stdout",
     "output_type": "stream",
     "text": [
      "n_correct_samples / n_samples = 50 150\n"
     ]
    },
    {
     "data": {
      "image/png": "[encoded data removed]",
      "text/plain": [
       "<matplotlib.figure.Figure at 0x11b013a58>"
      ]
     },
     "metadata": {},
     "output_type": "display_data"
    }
   ],
   "source": [
    "predicted_probs = sess.run(probabilities, feed_dict={X: train_X})\n",
    "predicted_classes = predicted_probs.argmax(axis=1)\n",
    "# classify everyone to the same class :/\n",
    "n_correct_samples = np.sum(predicted_classes == train_Y)\n",
    "print('n_correct_samples / n_samples =', n_correct_samples, n_samples)\n",
    "\n",
    "plot_result(predicted_classes)"
   ]
  },
  {
   "cell_type": "markdown",
   "metadata": {},
   "source": [
    "## Optimizing the cost function\n",
    "\n",
    " * Copy the boilerplate code from the last session (https://github.com/pilipolio/schibsted-study/blob/master/notebooks/201611_logistic_regression.ipynb, cell 43)\n",
    " * Replace the `logistic_loss` with the `batch_los\n",
    " * Remove or adapt the `fitted_ws[epoch, :] = fitted_w.ravel()` line because we now have more weights\n",
    " * Use code above to print the number of correct predictions and plot the final result\n",
    " * decrease the learning rate to something slightly lower than .2"
   ]
  },
  {
   "cell_type": "code",
   "execution_count": 85,
   "metadata": {
    "collapsed": false
   },
   "outputs": [
    {
     "name": "stdout",
     "output_type": "stream",
     "text": [
      "Epoch:    0, cost=1.0986\n",
      "n_correct_samples / n_samples = 50 150\n",
      "Epoch:   10, cost=1.0755\n",
      "n_correct_samples / n_samples = 50 150\n",
      "Epoch:   20, cost=1.0132\n",
      "n_correct_samples / n_samples = 50 150\n",
      "Epoch:   30, cost=1.0981\n",
      "n_correct_samples / n_samples = 50 150\n",
      "Epoch:   40, cost=0.9471\n",
      "n_correct_samples / n_samples = 85 150\n",
      "Epoch:   50, cost=0.8962\n",
      "n_correct_samples / n_samples = 100 150\n",
      "Epoch:   60, cost=0.8687\n",
      "n_correct_samples / n_samples = 100 150\n",
      "Epoch:   70, cost=0.8543\n",
      "n_correct_samples / n_samples = 100 150\n",
      "Epoch:   80, cost=0.8015\n",
      "n_correct_samples / n_samples = 117 150\n",
      "Epoch:   90, cost=0.8058\n",
      "n_correct_samples / n_samples = 129 150\n"
     ]
    },
    {
     "data": {
      "image/png": "[encoded data removed]",
      "text/plain": [
       "<matplotlib.figure.Figure at 0x11a6a7400>"
      ]
     },
     "metadata": {},
     "output_type": "display_data"
    }
   ],
   "source": [
    "# Parameters\n",
    "learning_rate = 0.01\n",
    "n_epochs = 100\n",
    "display_step = 10\n",
    "\n",
    "optimizer = tf.train.GradientDescentOptimizer(learning_rate).minimize(softmax_loss)\n",
    "\n",
    "fitted_ws = np.zeros((n_epochs, D*C))\n",
    "sess.run(tf.initialize_all_variables())\n",
    "\n",
    "for epoch in range(n_epochs):\n",
    "\n",
    "    _, fitted_w, loss_value, predicted_probs = sess.run(\n",
    "        fetches=[optimizer, W, softmax_loss, probabilities],\n",
    "        feed_dict={X: train_X, Y: train_Y})\n",
    "    fitted_ws[epoch, :] = fitted_w.ravel()\n",
    "    if (epoch) % display_step == 0:\n",
    "        print(\"Epoch: {:4d}, cost={:.4f}\".format(epoch, loss_value))\n",
    "        predicted_classes = predicted_probs.argmax(axis=1)\n",
    "        # classify everyone to the same class :/\n",
    "        n_correct_samples = np.sum(predicted_classes == train_Y)\n",
    "        print('n_correct_samples / n_samples =', n_correct_samples, n_samples)\n",
    "\n",
    "plot_result(predicted_classes)"
   ]
  },
  {
   "cell_type": "code",
   "execution_count": null,
   "metadata": {
    "collapsed": true
   },
   "outputs": [],
   "source": []
  }
 ],
 "metadata": {
  "kernelspec": {
   "display_name": "Python [conda root]",
   "language": "python",
   "name": "conda-root-py"
  },
  "language_info": {
   "codemirror_mode": {
    "name": "ipython",
    "version": 3
   },
   "file_extension": ".py",
   "mimetype": "text/x-python",
   "name": "python",
   "nbconvert_exporter": "python",
   "pygments_lexer": "ipython3",
   "version": "3.5.2"
  }
 },
 "nbformat": 4,
 "nbformat_minor": 1
}
